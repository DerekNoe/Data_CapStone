{
 "cells": [
  {
   "cell_type": "markdown",
   "metadata": {},
   "source": [
    "The provided data contains information about customers, products, and sales transactions.\n",
    "\n",
    "The data was cleaned and merged to analyze sales by state, age group, and product.\n",
    "\n",
    "Key insights include:\n",
    "\n",
    "California had the highest total sales. Customers aged 43 had the highest total sales. The youngest customer was 15, and the oldest was 86. A word cloud visualization shows the most common products purchased.\n",
    "\n",
    "This fictional sales dataset is useful for practicing data analysis and visualization techniques."
   ]
  },
  {
   "cell_type": "code",
   "execution_count": 62,
   "metadata": {},
   "outputs": [],
   "source": [
    "import pandas as pd\n",
    "import numpy as np\n",
    "import matplotlib.pyplot as plt\n",
    "import seaborn as sns"
   ]
  },
  {
   "cell_type": "code",
   "execution_count": 63,
   "metadata": {},
   "outputs": [],
   "source": [
    "#Importing data from csv files.  Loading data requirement.\n",
    "customer = pd.read_csv(\"customer_dim.csv\")\n",
    "product = pd.read_csv(\"product_dim.csv\")\n",
    "sales = pd.read_csv(\"sales_transactions.csv\")"
   ]
  },
  {
   "cell_type": "markdown",
   "metadata": {},
   "source": [
    "Inspecting and cleaning the 3 datasets."
   ]
  },
  {
   "cell_type": "code",
   "execution_count": 64,
   "metadata": {},
   "outputs": [
    {
     "data": {
      "text/html": [
       "<div>\n",
       "<style scoped>\n",
       "    .dataframe tbody tr th:only-of-type {\n",
       "        vertical-align: middle;\n",
       "    }\n",
       "\n",
       "    .dataframe tbody tr th {\n",
       "        vertical-align: top;\n",
       "    }\n",
       "\n",
       "    .dataframe thead th {\n",
       "        text-align: right;\n",
       "    }\n",
       "</style>\n",
       "<table border=\"1\" class=\"dataframe\">\n",
       "  <thead>\n",
       "    <tr style=\"text-align: right;\">\n",
       "      <th></th>\n",
       "      <th>cust_id</th>\n",
       "      <th>cust_address</th>\n",
       "      <th>cust_age</th>\n",
       "      <th>effective_start_date</th>\n",
       "      <th>effective_end_date</th>\n",
       "      <th>current_ind</th>\n",
       "    </tr>\n",
       "  </thead>\n",
       "  <tbody>\n",
       "    <tr>\n",
       "      <th>0</th>\n",
       "      <td>185057</td>\n",
       "      <td>335 Meadow St, Los Angeles, CA 90001</td>\n",
       "      <td>15</td>\n",
       "      <td>1900-01-01</td>\n",
       "      <td>9999-12-31</td>\n",
       "      <td>Y</td>\n",
       "    </tr>\n",
       "    <tr>\n",
       "      <th>1</th>\n",
       "      <td>225569</td>\n",
       "      <td>753 Adams St, Portland, ME 04101</td>\n",
       "      <td>15</td>\n",
       "      <td>1900-01-01</td>\n",
       "      <td>9999-12-31</td>\n",
       "      <td>Y</td>\n",
       "    </tr>\n",
       "    <tr>\n",
       "      <th>2</th>\n",
       "      <td>134924</td>\n",
       "      <td>295 Dogwood St, New York City, NY 10001</td>\n",
       "      <td>15</td>\n",
       "      <td>1900-01-01</td>\n",
       "      <td>9999-12-31</td>\n",
       "      <td>Y</td>\n",
       "    </tr>\n",
       "    <tr>\n",
       "      <th>3</th>\n",
       "      <td>218931</td>\n",
       "      <td>40 Jefferson St, Atlanta, GA 30301</td>\n",
       "      <td>15</td>\n",
       "      <td>1900-01-01</td>\n",
       "      <td>9999-12-31</td>\n",
       "      <td>Y</td>\n",
       "    </tr>\n",
       "    <tr>\n",
       "      <th>4</th>\n",
       "      <td>140361</td>\n",
       "      <td>169 Lake St, Boston, MA 02215</td>\n",
       "      <td>15</td>\n",
       "      <td>1900-01-01</td>\n",
       "      <td>9999-12-31</td>\n",
       "      <td>Y</td>\n",
       "    </tr>\n",
       "  </tbody>\n",
       "</table>\n",
       "</div>"
      ],
      "text/plain": [
       "   cust_id                             cust_address  cust_age  \\\n",
       "0   185057     335 Meadow St, Los Angeles, CA 90001        15   \n",
       "1   225569         753 Adams St, Portland, ME 04101        15   \n",
       "2   134924  295 Dogwood St, New York City, NY 10001        15   \n",
       "3   218931       40 Jefferson St, Atlanta, GA 30301        15   \n",
       "4   140361            169 Lake St, Boston, MA 02215        15   \n",
       "\n",
       "  effective_start_date effective_end_date current_ind  \n",
       "0           1900-01-01         9999-12-31           Y  \n",
       "1           1900-01-01         9999-12-31           Y  \n",
       "2           1900-01-01         9999-12-31           Y  \n",
       "3           1900-01-01         9999-12-31           Y  \n",
       "4           1900-01-01         9999-12-31           Y  "
      ]
     },
     "execution_count": 64,
     "metadata": {},
     "output_type": "execute_result"
    }
   ],
   "source": [
    "#Inspecting the customer data set.\n",
    "customer.head()"
   ]
  },
  {
   "cell_type": "code",
   "execution_count": 65,
   "metadata": {},
   "outputs": [
    {
     "data": {
      "text/html": [
       "<div>\n",
       "<style scoped>\n",
       "    .dataframe tbody tr th:only-of-type {\n",
       "        vertical-align: middle;\n",
       "    }\n",
       "\n",
       "    .dataframe tbody tr th {\n",
       "        vertical-align: top;\n",
       "    }\n",
       "\n",
       "    .dataframe thead th {\n",
       "        text-align: right;\n",
       "    }\n",
       "</style>\n",
       "<table border=\"1\" class=\"dataframe\">\n",
       "  <thead>\n",
       "    <tr style=\"text-align: right;\">\n",
       "      <th></th>\n",
       "      <th>cust_id</th>\n",
       "      <th>cust_address</th>\n",
       "      <th>cust_age</th>\n",
       "      <th>effective_start_date</th>\n",
       "      <th>effective_end_date</th>\n",
       "      <th>current_ind</th>\n",
       "    </tr>\n",
       "  </thead>\n",
       "  <tbody>\n",
       "    <tr>\n",
       "      <th>140782</th>\n",
       "      <td>119941</td>\n",
       "      <td>46 Forest St, Dallas, TX 75001</td>\n",
       "      <td>86</td>\n",
       "      <td>1900-01-01</td>\n",
       "      <td>9999-12-31</td>\n",
       "      <td>Y</td>\n",
       "    </tr>\n",
       "    <tr>\n",
       "      <th>140783</th>\n",
       "      <td>174908</td>\n",
       "      <td>565 Hickory St, San Francisco, CA 94016</td>\n",
       "      <td>86</td>\n",
       "      <td>1900-01-01</td>\n",
       "      <td>9999-12-31</td>\n",
       "      <td>Y</td>\n",
       "    </tr>\n",
       "    <tr>\n",
       "      <th>140784</th>\n",
       "      <td>202462</td>\n",
       "      <td>456 South St, San Francisco, CA 94016</td>\n",
       "      <td>86</td>\n",
       "      <td>1900-01-01</td>\n",
       "      <td>9999-12-31</td>\n",
       "      <td>Y</td>\n",
       "    </tr>\n",
       "    <tr>\n",
       "      <th>140785</th>\n",
       "      <td>165763</td>\n",
       "      <td>246 Johnson St, San Francisco, CA 94016</td>\n",
       "      <td>86</td>\n",
       "      <td>1900-01-01</td>\n",
       "      <td>9999-12-31</td>\n",
       "      <td>Y</td>\n",
       "    </tr>\n",
       "    <tr>\n",
       "      <th>140786</th>\n",
       "      <td>147936</td>\n",
       "      <td>135 Hill St, Seattle, WA 98101</td>\n",
       "      <td>86</td>\n",
       "      <td>1900-01-01</td>\n",
       "      <td>9999-12-31</td>\n",
       "      <td>Y</td>\n",
       "    </tr>\n",
       "  </tbody>\n",
       "</table>\n",
       "</div>"
      ],
      "text/plain": [
       "        cust_id                             cust_address  cust_age  \\\n",
       "140782   119941           46 Forest St, Dallas, TX 75001        86   \n",
       "140783   174908  565 Hickory St, San Francisco, CA 94016        86   \n",
       "140784   202462    456 South St, San Francisco, CA 94016        86   \n",
       "140785   165763  246 Johnson St, San Francisco, CA 94016        86   \n",
       "140786   147936           135 Hill St, Seattle, WA 98101        86   \n",
       "\n",
       "       effective_start_date effective_end_date current_ind  \n",
       "140782           1900-01-01         9999-12-31           Y  \n",
       "140783           1900-01-01         9999-12-31           Y  \n",
       "140784           1900-01-01         9999-12-31           Y  \n",
       "140785           1900-01-01         9999-12-31           Y  \n",
       "140786           1900-01-01         9999-12-31           Y  "
      ]
     },
     "execution_count": 65,
     "metadata": {},
     "output_type": "execute_result"
    }
   ],
   "source": [
    "customer.tail()"
   ]
  },
  {
   "cell_type": "code",
   "execution_count": 66,
   "metadata": {},
   "outputs": [
    {
     "name": "stdout",
     "output_type": "stream",
     "text": [
      "<class 'pandas.core.frame.DataFrame'>\n",
      "RangeIndex: 140787 entries, 0 to 140786\n",
      "Data columns (total 6 columns):\n",
      " #   Column                Non-Null Count   Dtype \n",
      "---  ------                --------------   ----- \n",
      " 0   cust_id               140787 non-null  int64 \n",
      " 1   cust_address          140787 non-null  object\n",
      " 2   cust_age              140787 non-null  int64 \n",
      " 3   effective_start_date  140787 non-null  object\n",
      " 4   effective_end_date    140787 non-null  object\n",
      " 5   current_ind           140787 non-null  object\n",
      "dtypes: int64(2), object(4)\n",
      "memory usage: 6.4+ MB\n"
     ]
    }
   ],
   "source": [
    "customer.info()"
   ]
  },
  {
   "cell_type": "code",
   "execution_count": 67,
   "metadata": {},
   "outputs": [],
   "source": [
    "#The effective_start_date and effective_end_date columns begin in the year 1900 and end in the year 9999.  \n",
    "# Both columns will be dropped from the dataset being they contain no relative info.\n",
    "customer.drop(['effective_start_date', 'effective_end_date'], axis=1, inplace=True)"
   ]
  },
  {
   "cell_type": "code",
   "execution_count": 68,
   "metadata": {},
   "outputs": [],
   "source": [
    "#Arranging cust_address by state\n",
    "customer['cust_address'] = customer['cust_address'].str.split(',').str[2]"
   ]
  },
  {
   "cell_type": "code",
   "execution_count": 69,
   "metadata": {},
   "outputs": [],
   "source": [
    "#removing zipcode from cust_address\n",
    "customer['cust_address'] = customer['cust_address'].str.split(' ').str[1]"
   ]
  },
  {
   "cell_type": "code",
   "execution_count": 70,
   "metadata": {},
   "outputs": [],
   "source": [
    "#Renaming the cust_address column to cust_state\n",
    "customer.columns = ['cust_id', 'cust_state', 'cust_age', 'current_ind']"
   ]
  },
  {
   "cell_type": "code",
   "execution_count": 71,
   "metadata": {},
   "outputs": [
    {
     "data": {
      "text/html": [
       "<div>\n",
       "<style scoped>\n",
       "    .dataframe tbody tr th:only-of-type {\n",
       "        vertical-align: middle;\n",
       "    }\n",
       "\n",
       "    .dataframe tbody tr th {\n",
       "        vertical-align: top;\n",
       "    }\n",
       "\n",
       "    .dataframe thead th {\n",
       "        text-align: right;\n",
       "    }\n",
       "</style>\n",
       "<table border=\"1\" class=\"dataframe\">\n",
       "  <thead>\n",
       "    <tr style=\"text-align: right;\">\n",
       "      <th></th>\n",
       "      <th>cust_id</th>\n",
       "      <th>cust_state</th>\n",
       "      <th>cust_age</th>\n",
       "      <th>current_ind</th>\n",
       "    </tr>\n",
       "  </thead>\n",
       "  <tbody>\n",
       "    <tr>\n",
       "      <th>0</th>\n",
       "      <td>185057</td>\n",
       "      <td>CA</td>\n",
       "      <td>15</td>\n",
       "      <td>Y</td>\n",
       "    </tr>\n",
       "    <tr>\n",
       "      <th>1</th>\n",
       "      <td>225569</td>\n",
       "      <td>ME</td>\n",
       "      <td>15</td>\n",
       "      <td>Y</td>\n",
       "    </tr>\n",
       "    <tr>\n",
       "      <th>2</th>\n",
       "      <td>134924</td>\n",
       "      <td>NY</td>\n",
       "      <td>15</td>\n",
       "      <td>Y</td>\n",
       "    </tr>\n",
       "    <tr>\n",
       "      <th>3</th>\n",
       "      <td>218931</td>\n",
       "      <td>GA</td>\n",
       "      <td>15</td>\n",
       "      <td>Y</td>\n",
       "    </tr>\n",
       "    <tr>\n",
       "      <th>4</th>\n",
       "      <td>140361</td>\n",
       "      <td>MA</td>\n",
       "      <td>15</td>\n",
       "      <td>Y</td>\n",
       "    </tr>\n",
       "  </tbody>\n",
       "</table>\n",
       "</div>"
      ],
      "text/plain": [
       "   cust_id cust_state  cust_age current_ind\n",
       "0   185057         CA        15           Y\n",
       "1   225569         ME        15           Y\n",
       "2   134924         NY        15           Y\n",
       "3   218931         GA        15           Y\n",
       "4   140361         MA        15           Y"
      ]
     },
     "execution_count": 71,
     "metadata": {},
     "output_type": "execute_result"
    }
   ],
   "source": [
    "customer.head()"
   ]
  },
  {
   "cell_type": "code",
   "execution_count": 72,
   "metadata": {},
   "outputs": [
    {
     "data": {
      "text/html": [
       "<div>\n",
       "<style scoped>\n",
       "    .dataframe tbody tr th:only-of-type {\n",
       "        vertical-align: middle;\n",
       "    }\n",
       "\n",
       "    .dataframe tbody tr th {\n",
       "        vertical-align: top;\n",
       "    }\n",
       "\n",
       "    .dataframe thead th {\n",
       "        text-align: right;\n",
       "    }\n",
       "</style>\n",
       "<table border=\"1\" class=\"dataframe\">\n",
       "  <thead>\n",
       "    <tr style=\"text-align: right;\">\n",
       "      <th></th>\n",
       "      <th>product_id</th>\n",
       "      <th>product_name</th>\n",
       "      <th>product_price</th>\n",
       "      <th>effective_start_date</th>\n",
       "      <th>effective_end_date</th>\n",
       "      <th>current_ind</th>\n",
       "    </tr>\n",
       "  </thead>\n",
       "  <tbody>\n",
       "    <tr>\n",
       "      <th>0</th>\n",
       "      <td>582</td>\n",
       "      <td>iPhone</td>\n",
       "      <td>635.0</td>\n",
       "      <td>2019-10-01</td>\n",
       "      <td>2019-11-30</td>\n",
       "      <td>N</td>\n",
       "    </tr>\n",
       "    <tr>\n",
       "      <th>1</th>\n",
       "      <td>582</td>\n",
       "      <td>iPhone</td>\n",
       "      <td>689.0</td>\n",
       "      <td>2019-06-01</td>\n",
       "      <td>2019-09-30</td>\n",
       "      <td>N</td>\n",
       "    </tr>\n",
       "    <tr>\n",
       "      <th>2</th>\n",
       "      <td>582</td>\n",
       "      <td>iPhone</td>\n",
       "      <td>649.0</td>\n",
       "      <td>2019-04-01</td>\n",
       "      <td>2019-05-31</td>\n",
       "      <td>N</td>\n",
       "    </tr>\n",
       "    <tr>\n",
       "      <th>3</th>\n",
       "      <td>582</td>\n",
       "      <td>iPhone</td>\n",
       "      <td>700.0</td>\n",
       "      <td>1900-01-01</td>\n",
       "      <td>2019-03-31</td>\n",
       "      <td>N</td>\n",
       "    </tr>\n",
       "    <tr>\n",
       "      <th>4</th>\n",
       "      <td>216</td>\n",
       "      <td>LG Dryer</td>\n",
       "      <td>610.0</td>\n",
       "      <td>2019-06-01</td>\n",
       "      <td>2019-06-30</td>\n",
       "      <td>N</td>\n",
       "    </tr>\n",
       "  </tbody>\n",
       "</table>\n",
       "</div>"
      ],
      "text/plain": [
       "   product_id product_name  product_price effective_start_date  \\\n",
       "0         582       iPhone          635.0           2019-10-01   \n",
       "1         582       iPhone          689.0           2019-06-01   \n",
       "2         582       iPhone          649.0           2019-04-01   \n",
       "3         582       iPhone          700.0           1900-01-01   \n",
       "4         216     LG Dryer          610.0           2019-06-01   \n",
       "\n",
       "  effective_end_date current_ind  \n",
       "0         2019-11-30           N  \n",
       "1         2019-09-30           N  \n",
       "2         2019-05-31           N  \n",
       "3         2019-03-31           N  \n",
       "4         2019-06-30           N  "
      ]
     },
     "execution_count": 72,
     "metadata": {},
     "output_type": "execute_result"
    }
   ],
   "source": [
    "#Inspecting the product dataset.\n",
    "product.head()"
   ]
  },
  {
   "cell_type": "code",
   "execution_count": 73,
   "metadata": {},
   "outputs": [
    {
     "data": {
      "text/html": [
       "<div>\n",
       "<style scoped>\n",
       "    .dataframe tbody tr th:only-of-type {\n",
       "        vertical-align: middle;\n",
       "    }\n",
       "\n",
       "    .dataframe tbody tr th {\n",
       "        vertical-align: top;\n",
       "    }\n",
       "\n",
       "    .dataframe thead th {\n",
       "        text-align: right;\n",
       "    }\n",
       "</style>\n",
       "<table border=\"1\" class=\"dataframe\">\n",
       "  <thead>\n",
       "    <tr style=\"text-align: right;\">\n",
       "      <th></th>\n",
       "      <th>product_id</th>\n",
       "      <th>product_name</th>\n",
       "      <th>product_price</th>\n",
       "      <th>effective_start_date</th>\n",
       "      <th>effective_end_date</th>\n",
       "      <th>current_ind</th>\n",
       "    </tr>\n",
       "  </thead>\n",
       "  <tbody>\n",
       "    <tr>\n",
       "      <th>116</th>\n",
       "      <td>692</td>\n",
       "      <td>AAA Batteries (4-pack)</td>\n",
       "      <td>2.89</td>\n",
       "      <td>2019-12-01</td>\n",
       "      <td>9999-12-31</td>\n",
       "      <td>Y</td>\n",
       "    </tr>\n",
       "    <tr>\n",
       "      <th>117</th>\n",
       "      <td>953</td>\n",
       "      <td>Apple Airpods Headphones</td>\n",
       "      <td>139.00</td>\n",
       "      <td>2019-12-01</td>\n",
       "      <td>9999-12-31</td>\n",
       "      <td>Y</td>\n",
       "    </tr>\n",
       "    <tr>\n",
       "      <th>118</th>\n",
       "      <td>435</td>\n",
       "      <td>Golf Handheld GPS Caddie</td>\n",
       "      <td>350.00</td>\n",
       "      <td>2019-12-01</td>\n",
       "      <td>9999-12-31</td>\n",
       "      <td>Y</td>\n",
       "    </tr>\n",
       "    <tr>\n",
       "      <th>119</th>\n",
       "      <td>981</td>\n",
       "      <td>Lightning Charging Cable</td>\n",
       "      <td>10.99</td>\n",
       "      <td>2019-12-01</td>\n",
       "      <td>9999-12-31</td>\n",
       "      <td>Y</td>\n",
       "    </tr>\n",
       "    <tr>\n",
       "      <th>120</th>\n",
       "      <td>467</td>\n",
       "      <td>Bose SoundSport Headphones</td>\n",
       "      <td>104.99</td>\n",
       "      <td>2019-12-01</td>\n",
       "      <td>9999-12-31</td>\n",
       "      <td>Y</td>\n",
       "    </tr>\n",
       "  </tbody>\n",
       "</table>\n",
       "</div>"
      ],
      "text/plain": [
       "     product_id                product_name  product_price  \\\n",
       "116         692      AAA Batteries (4-pack)           2.89   \n",
       "117         953    Apple Airpods Headphones         139.00   \n",
       "118         435    Golf Handheld GPS Caddie         350.00   \n",
       "119         981    Lightning Charging Cable          10.99   \n",
       "120         467  Bose SoundSport Headphones         104.99   \n",
       "\n",
       "    effective_start_date effective_end_date current_ind  \n",
       "116           2019-12-01         9999-12-31           Y  \n",
       "117           2019-12-01         9999-12-31           Y  \n",
       "118           2019-12-01         9999-12-31           Y  \n",
       "119           2019-12-01         9999-12-31           Y  \n",
       "120           2019-12-01         9999-12-31           Y  "
      ]
     },
     "execution_count": 73,
     "metadata": {},
     "output_type": "execute_result"
    }
   ],
   "source": [
    "product.tail()"
   ]
  },
  {
   "cell_type": "code",
   "execution_count": 74,
   "metadata": {},
   "outputs": [
    {
     "name": "stdout",
     "output_type": "stream",
     "text": [
      "<class 'pandas.core.frame.DataFrame'>\n",
      "RangeIndex: 121 entries, 0 to 120\n",
      "Data columns (total 6 columns):\n",
      " #   Column                Non-Null Count  Dtype  \n",
      "---  ------                --------------  -----  \n",
      " 0   product_id            121 non-null    int64  \n",
      " 1   product_name          121 non-null    object \n",
      " 2   product_price         121 non-null    float64\n",
      " 3   effective_start_date  121 non-null    object \n",
      " 4   effective_end_date    121 non-null    object \n",
      " 5   current_ind           121 non-null    object \n",
      "dtypes: float64(1), int64(1), object(4)\n",
      "memory usage: 5.8+ KB\n"
     ]
    }
   ],
   "source": [
    "product.info()"
   ]
  },
  {
   "cell_type": "code",
   "execution_count": 75,
   "metadata": {},
   "outputs": [],
   "source": [
    "#Changing both effective_start_date and effective_end_date to date/time format.\n",
    "product['effective_start_date'] = pd.to_datetime(product['effective_start_date'])\n",
    "product['effective_end_date'] = pd.to_datetime(product['effective_end_date'], errors='coerce')"
   ]
  },
  {
   "cell_type": "code",
   "execution_count": 76,
   "metadata": {},
   "outputs": [
    {
     "name": "stdout",
     "output_type": "stream",
     "text": [
      "<class 'pandas.core.frame.DataFrame'>\n",
      "RangeIndex: 121 entries, 0 to 120\n",
      "Data columns (total 6 columns):\n",
      " #   Column                Non-Null Count  Dtype         \n",
      "---  ------                --------------  -----         \n",
      " 0   product_id            121 non-null    int64         \n",
      " 1   product_name          121 non-null    object        \n",
      " 2   product_price         121 non-null    float64       \n",
      " 3   effective_start_date  121 non-null    datetime64[ns]\n",
      " 4   effective_end_date    102 non-null    datetime64[ns]\n",
      " 5   current_ind           121 non-null    object        \n",
      "dtypes: datetime64[ns](2), float64(1), int64(1), object(2)\n",
      "memory usage: 5.8+ KB\n"
     ]
    }
   ],
   "source": [
    "#Ensuring the dtypes changed for both effective_start_date and effective_end_date\n",
    "product.info()"
   ]
  },
  {
   "cell_type": "code",
   "execution_count": 77,
   "metadata": {},
   "outputs": [
    {
     "data": {
      "text/html": [
       "<div>\n",
       "<style scoped>\n",
       "    .dataframe tbody tr th:only-of-type {\n",
       "        vertical-align: middle;\n",
       "    }\n",
       "\n",
       "    .dataframe tbody tr th {\n",
       "        vertical-align: top;\n",
       "    }\n",
       "\n",
       "    .dataframe thead th {\n",
       "        text-align: right;\n",
       "    }\n",
       "</style>\n",
       "<table border=\"1\" class=\"dataframe\">\n",
       "  <thead>\n",
       "    <tr style=\"text-align: right;\">\n",
       "      <th></th>\n",
       "      <th>order_id</th>\n",
       "      <th>product_id</th>\n",
       "      <th>cust_id</th>\n",
       "      <th>product_quantity</th>\n",
       "      <th>order_date</th>\n",
       "    </tr>\n",
       "  </thead>\n",
       "  <tbody>\n",
       "    <tr>\n",
       "      <th>0</th>\n",
       "      <td>146740</td>\n",
       "      <td>614</td>\n",
       "      <td>121960</td>\n",
       "      <td>1</td>\n",
       "      <td>2019-01-24</td>\n",
       "    </tr>\n",
       "    <tr>\n",
       "      <th>1</th>\n",
       "      <td>141749</td>\n",
       "      <td>394</td>\n",
       "      <td>113809</td>\n",
       "      <td>1</td>\n",
       "      <td>2019-01-24</td>\n",
       "    </tr>\n",
       "    <tr>\n",
       "      <th>2</th>\n",
       "      <td>144400</td>\n",
       "      <td>953</td>\n",
       "      <td>102255</td>\n",
       "      <td>1</td>\n",
       "      <td>2019-01-24</td>\n",
       "    </tr>\n",
       "    <tr>\n",
       "      <th>3</th>\n",
       "      <td>148898</td>\n",
       "      <td>715</td>\n",
       "      <td>190891</td>\n",
       "      <td>1</td>\n",
       "      <td>2019-01-24</td>\n",
       "    </tr>\n",
       "    <tr>\n",
       "      <th>4</th>\n",
       "      <td>143260</td>\n",
       "      <td>467</td>\n",
       "      <td>108376</td>\n",
       "      <td>1</td>\n",
       "      <td>2019-01-24</td>\n",
       "    </tr>\n",
       "  </tbody>\n",
       "</table>\n",
       "</div>"
      ],
      "text/plain": [
       "   order_id  product_id  cust_id  product_quantity  order_date\n",
       "0    146740         614   121960                 1  2019-01-24\n",
       "1    141749         394   113809                 1  2019-01-24\n",
       "2    144400         953   102255                 1  2019-01-24\n",
       "3    148898         715   190891                 1  2019-01-24\n",
       "4    143260         467   108376                 1  2019-01-24"
      ]
     },
     "execution_count": 77,
     "metadata": {},
     "output_type": "execute_result"
    }
   ],
   "source": [
    "#Inspecting the sales data.\n",
    "sales.head()"
   ]
  },
  {
   "cell_type": "code",
   "execution_count": 78,
   "metadata": {},
   "outputs": [
    {
     "data": {
      "text/html": [
       "<div>\n",
       "<style scoped>\n",
       "    .dataframe tbody tr th:only-of-type {\n",
       "        vertical-align: middle;\n",
       "    }\n",
       "\n",
       "    .dataframe tbody tr th {\n",
       "        vertical-align: top;\n",
       "    }\n",
       "\n",
       "    .dataframe thead th {\n",
       "        text-align: right;\n",
       "    }\n",
       "</style>\n",
       "<table border=\"1\" class=\"dataframe\">\n",
       "  <thead>\n",
       "    <tr style=\"text-align: right;\">\n",
       "      <th></th>\n",
       "      <th>order_id</th>\n",
       "      <th>product_id</th>\n",
       "      <th>cust_id</th>\n",
       "      <th>product_quantity</th>\n",
       "      <th>order_date</th>\n",
       "    </tr>\n",
       "  </thead>\n",
       "  <tbody>\n",
       "    <tr>\n",
       "      <th>185945</th>\n",
       "      <td>267890</td>\n",
       "      <td>692</td>\n",
       "      <td>206766</td>\n",
       "      <td>3</td>\n",
       "      <td>2019-10-06</td>\n",
       "    </tr>\n",
       "    <tr>\n",
       "      <th>185946</th>\n",
       "      <td>271869</td>\n",
       "      <td>692</td>\n",
       "      <td>203170</td>\n",
       "      <td>3</td>\n",
       "      <td>2019-10-06</td>\n",
       "    </tr>\n",
       "    <tr>\n",
       "      <th>185947</th>\n",
       "      <td>266115</td>\n",
       "      <td>692</td>\n",
       "      <td>144006</td>\n",
       "      <td>3</td>\n",
       "      <td>2019-10-06</td>\n",
       "    </tr>\n",
       "    <tr>\n",
       "      <th>185948</th>\n",
       "      <td>277783</td>\n",
       "      <td>692</td>\n",
       "      <td>194323</td>\n",
       "      <td>4</td>\n",
       "      <td>2019-10-06</td>\n",
       "    </tr>\n",
       "    <tr>\n",
       "      <th>185949</th>\n",
       "      <td>274286</td>\n",
       "      <td>692</td>\n",
       "      <td>208841</td>\n",
       "      <td>5</td>\n",
       "      <td>2019-10-06</td>\n",
       "    </tr>\n",
       "  </tbody>\n",
       "</table>\n",
       "</div>"
      ],
      "text/plain": [
       "        order_id  product_id  cust_id  product_quantity  order_date\n",
       "185945    267890         692   206766                 3  2019-10-06\n",
       "185946    271869         692   203170                 3  2019-10-06\n",
       "185947    266115         692   144006                 3  2019-10-06\n",
       "185948    277783         692   194323                 4  2019-10-06\n",
       "185949    274286         692   208841                 5  2019-10-06"
      ]
     },
     "execution_count": 78,
     "metadata": {},
     "output_type": "execute_result"
    }
   ],
   "source": [
    "sales.tail()"
   ]
  },
  {
   "cell_type": "code",
   "execution_count": 79,
   "metadata": {},
   "outputs": [],
   "source": [
    "#Converting order_date to datetime format in the sales dateframe.\n",
    "sales['order_date'] = pd.to_datetime(sales['order_date'])"
   ]
  },
  {
   "cell_type": "code",
   "execution_count": 80,
   "metadata": {},
   "outputs": [
    {
     "name": "stdout",
     "output_type": "stream",
     "text": [
      "<class 'pandas.core.frame.DataFrame'>\n",
      "RangeIndex: 185950 entries, 0 to 185949\n",
      "Data columns (total 5 columns):\n",
      " #   Column            Non-Null Count   Dtype         \n",
      "---  ------            --------------   -----         \n",
      " 0   order_id          185950 non-null  int64         \n",
      " 1   product_id        185950 non-null  int64         \n",
      " 2   cust_id           185950 non-null  int64         \n",
      " 3   product_quantity  185950 non-null  int64         \n",
      " 4   order_date        185950 non-null  datetime64[ns]\n",
      "dtypes: datetime64[ns](1), int64(4)\n",
      "memory usage: 7.1 MB\n"
     ]
    }
   ],
   "source": [
    "sales.info()"
   ]
  },
  {
   "cell_type": "markdown",
   "metadata": {},
   "source": [
    "Merging the datasets to begin analyzing the data."
   ]
  },
  {
   "cell_type": "code",
   "execution_count": 81,
   "metadata": {},
   "outputs": [],
   "source": [
    "#Merging the 3 datasets for analysis.  Requirement 2, clean and operate on data while combining. \n",
    "df = pd.merge(sales, customer, on='cust_id')\n",
    "df = pd.merge(df, product, on='product_id')"
   ]
  },
  {
   "cell_type": "code",
   "execution_count": 82,
   "metadata": {},
   "outputs": [
    {
     "data": {
      "text/html": [
       "<div>\n",
       "<style scoped>\n",
       "    .dataframe tbody tr th:only-of-type {\n",
       "        vertical-align: middle;\n",
       "    }\n",
       "\n",
       "    .dataframe tbody tr th {\n",
       "        vertical-align: top;\n",
       "    }\n",
       "\n",
       "    .dataframe thead th {\n",
       "        text-align: right;\n",
       "    }\n",
       "</style>\n",
       "<table border=\"1\" class=\"dataframe\">\n",
       "  <thead>\n",
       "    <tr style=\"text-align: right;\">\n",
       "      <th></th>\n",
       "      <th>order_id</th>\n",
       "      <th>product_id</th>\n",
       "      <th>cust_id</th>\n",
       "      <th>product_quantity</th>\n",
       "      <th>order_date</th>\n",
       "      <th>cust_state</th>\n",
       "      <th>cust_age</th>\n",
       "      <th>current_ind_x</th>\n",
       "      <th>product_name</th>\n",
       "      <th>product_price</th>\n",
       "      <th>effective_start_date</th>\n",
       "      <th>effective_end_date</th>\n",
       "      <th>current_ind_y</th>\n",
       "    </tr>\n",
       "  </thead>\n",
       "  <tbody>\n",
       "    <tr>\n",
       "      <th>0</th>\n",
       "      <td>146740</td>\n",
       "      <td>614</td>\n",
       "      <td>121960</td>\n",
       "      <td>1</td>\n",
       "      <td>2019-01-24</td>\n",
       "      <td>CA</td>\n",
       "      <td>36</td>\n",
       "      <td>Y</td>\n",
       "      <td>Google Phone</td>\n",
       "      <td>610.0</td>\n",
       "      <td>2019-06-01</td>\n",
       "      <td>2019-09-30</td>\n",
       "      <td>N</td>\n",
       "    </tr>\n",
       "    <tr>\n",
       "      <th>1</th>\n",
       "      <td>146740</td>\n",
       "      <td>614</td>\n",
       "      <td>121960</td>\n",
       "      <td>1</td>\n",
       "      <td>2019-01-24</td>\n",
       "      <td>CA</td>\n",
       "      <td>36</td>\n",
       "      <td>Y</td>\n",
       "      <td>Google Phone</td>\n",
       "      <td>579.0</td>\n",
       "      <td>2019-10-01</td>\n",
       "      <td>2019-10-31</td>\n",
       "      <td>N</td>\n",
       "    </tr>\n",
       "    <tr>\n",
       "      <th>2</th>\n",
       "      <td>146740</td>\n",
       "      <td>614</td>\n",
       "      <td>121960</td>\n",
       "      <td>1</td>\n",
       "      <td>2019-01-24</td>\n",
       "      <td>CA</td>\n",
       "      <td>36</td>\n",
       "      <td>Y</td>\n",
       "      <td>Google Phone</td>\n",
       "      <td>599.0</td>\n",
       "      <td>2019-03-01</td>\n",
       "      <td>2019-05-31</td>\n",
       "      <td>N</td>\n",
       "    </tr>\n",
       "    <tr>\n",
       "      <th>3</th>\n",
       "      <td>146740</td>\n",
       "      <td>614</td>\n",
       "      <td>121960</td>\n",
       "      <td>1</td>\n",
       "      <td>2019-01-24</td>\n",
       "      <td>CA</td>\n",
       "      <td>36</td>\n",
       "      <td>Y</td>\n",
       "      <td>Google Phone</td>\n",
       "      <td>620.0</td>\n",
       "      <td>1900-01-01</td>\n",
       "      <td>2019-02-28</td>\n",
       "      <td>N</td>\n",
       "    </tr>\n",
       "    <tr>\n",
       "      <th>4</th>\n",
       "      <td>146740</td>\n",
       "      <td>614</td>\n",
       "      <td>121960</td>\n",
       "      <td>1</td>\n",
       "      <td>2019-01-24</td>\n",
       "      <td>CA</td>\n",
       "      <td>36</td>\n",
       "      <td>Y</td>\n",
       "      <td>Google Phone</td>\n",
       "      <td>589.0</td>\n",
       "      <td>2019-11-01</td>\n",
       "      <td>2019-11-30</td>\n",
       "      <td>N</td>\n",
       "    </tr>\n",
       "  </tbody>\n",
       "</table>\n",
       "</div>"
      ],
      "text/plain": [
       "   order_id  product_id  cust_id  product_quantity order_date cust_state  \\\n",
       "0    146740         614   121960                 1 2019-01-24         CA   \n",
       "1    146740         614   121960                 1 2019-01-24         CA   \n",
       "2    146740         614   121960                 1 2019-01-24         CA   \n",
       "3    146740         614   121960                 1 2019-01-24         CA   \n",
       "4    146740         614   121960                 1 2019-01-24         CA   \n",
       "\n",
       "   cust_age current_ind_x  product_name  product_price effective_start_date  \\\n",
       "0        36             Y  Google Phone          610.0           2019-06-01   \n",
       "1        36             Y  Google Phone          579.0           2019-10-01   \n",
       "2        36             Y  Google Phone          599.0           2019-03-01   \n",
       "3        36             Y  Google Phone          620.0           1900-01-01   \n",
       "4        36             Y  Google Phone          589.0           2019-11-01   \n",
       "\n",
       "  effective_end_date current_ind_y  \n",
       "0         2019-09-30             N  \n",
       "1         2019-10-31             N  \n",
       "2         2019-05-31             N  \n",
       "3         2019-02-28             N  \n",
       "4         2019-11-30             N  "
      ]
     },
     "execution_count": 82,
     "metadata": {},
     "output_type": "execute_result"
    }
   ],
   "source": [
    "#With this dataset the order_id was duplicated to match each price for the product. \n",
    "df.head()"
   ]
  },
  {
   "cell_type": "code",
   "execution_count": 83,
   "metadata": {},
   "outputs": [
    {
     "name": "stdout",
     "output_type": "stream",
     "text": [
      "<class 'pandas.core.frame.DataFrame'>\n",
      "RangeIndex: 1345882 entries, 0 to 1345881\n",
      "Data columns (total 13 columns):\n",
      " #   Column                Non-Null Count    Dtype         \n",
      "---  ------                --------------    -----         \n",
      " 0   order_id              1345882 non-null  int64         \n",
      " 1   product_id            1345882 non-null  int64         \n",
      " 2   cust_id               1345882 non-null  int64         \n",
      " 3   product_quantity      1345882 non-null  int64         \n",
      " 4   order_date            1345882 non-null  datetime64[ns]\n",
      " 5   cust_state            1345882 non-null  object        \n",
      " 6   cust_age              1345882 non-null  int64         \n",
      " 7   current_ind_x         1345882 non-null  object        \n",
      " 8   product_name          1345882 non-null  object        \n",
      " 9   product_price         1345882 non-null  float64       \n",
      " 10  effective_start_date  1345882 non-null  datetime64[ns]\n",
      " 11  effective_end_date    1159932 non-null  datetime64[ns]\n",
      " 12  current_ind_y         1345882 non-null  object        \n",
      "dtypes: datetime64[ns](3), float64(1), int64(5), object(4)\n",
      "memory usage: 133.5+ MB\n"
     ]
    }
   ],
   "source": [
    "df.info()"
   ]
  },
  {
   "cell_type": "code",
   "execution_count": 84,
   "metadata": {},
   "outputs": [],
   "source": [
    "#Removing all duplicate order_id to shrink the df dataset.\n",
    "df.drop_duplicates(subset='order_id', inplace=True)"
   ]
  },
  {
   "cell_type": "code",
   "execution_count": 85,
   "metadata": {},
   "outputs": [
    {
     "data": {
      "text/html": [
       "<div>\n",
       "<style scoped>\n",
       "    .dataframe tbody tr th:only-of-type {\n",
       "        vertical-align: middle;\n",
       "    }\n",
       "\n",
       "    .dataframe tbody tr th {\n",
       "        vertical-align: top;\n",
       "    }\n",
       "\n",
       "    .dataframe thead th {\n",
       "        text-align: right;\n",
       "    }\n",
       "</style>\n",
       "<table border=\"1\" class=\"dataframe\">\n",
       "  <thead>\n",
       "    <tr style=\"text-align: right;\">\n",
       "      <th></th>\n",
       "      <th>order_id</th>\n",
       "      <th>product_id</th>\n",
       "      <th>cust_id</th>\n",
       "      <th>product_quantity</th>\n",
       "      <th>order_date</th>\n",
       "      <th>cust_state</th>\n",
       "      <th>cust_age</th>\n",
       "      <th>current_ind_x</th>\n",
       "      <th>product_name</th>\n",
       "      <th>product_price</th>\n",
       "      <th>effective_start_date</th>\n",
       "      <th>effective_end_date</th>\n",
       "      <th>current_ind_y</th>\n",
       "    </tr>\n",
       "  </thead>\n",
       "  <tbody>\n",
       "    <tr>\n",
       "      <th>0</th>\n",
       "      <td>146740</td>\n",
       "      <td>614</td>\n",
       "      <td>121960</td>\n",
       "      <td>1</td>\n",
       "      <td>2019-01-24</td>\n",
       "      <td>CA</td>\n",
       "      <td>36</td>\n",
       "      <td>Y</td>\n",
       "      <td>Google Phone</td>\n",
       "      <td>610.0</td>\n",
       "      <td>2019-06-01</td>\n",
       "      <td>2019-09-30</td>\n",
       "      <td>N</td>\n",
       "    </tr>\n",
       "    <tr>\n",
       "      <th>6</th>\n",
       "      <td>149993</td>\n",
       "      <td>614</td>\n",
       "      <td>228883</td>\n",
       "      <td>1</td>\n",
       "      <td>2019-01-24</td>\n",
       "      <td>GA</td>\n",
       "      <td>77</td>\n",
       "      <td>Y</td>\n",
       "      <td>Google Phone</td>\n",
       "      <td>610.0</td>\n",
       "      <td>2019-06-01</td>\n",
       "      <td>2019-09-30</td>\n",
       "      <td>N</td>\n",
       "    </tr>\n",
       "    <tr>\n",
       "      <th>12</th>\n",
       "      <td>146586</td>\n",
       "      <td>614</td>\n",
       "      <td>217692</td>\n",
       "      <td>1</td>\n",
       "      <td>2019-01-24</td>\n",
       "      <td>NY</td>\n",
       "      <td>54</td>\n",
       "      <td>Y</td>\n",
       "      <td>Google Phone</td>\n",
       "      <td>610.0</td>\n",
       "      <td>2019-06-01</td>\n",
       "      <td>2019-09-30</td>\n",
       "      <td>N</td>\n",
       "    </tr>\n",
       "    <tr>\n",
       "      <th>18</th>\n",
       "      <td>147699</td>\n",
       "      <td>614</td>\n",
       "      <td>196010</td>\n",
       "      <td>1</td>\n",
       "      <td>2019-01-24</td>\n",
       "      <td>CA</td>\n",
       "      <td>57</td>\n",
       "      <td>Y</td>\n",
       "      <td>Google Phone</td>\n",
       "      <td>610.0</td>\n",
       "      <td>2019-06-01</td>\n",
       "      <td>2019-09-30</td>\n",
       "      <td>N</td>\n",
       "    </tr>\n",
       "    <tr>\n",
       "      <th>24</th>\n",
       "      <td>143187</td>\n",
       "      <td>614</td>\n",
       "      <td>212530</td>\n",
       "      <td>1</td>\n",
       "      <td>2019-01-24</td>\n",
       "      <td>CA</td>\n",
       "      <td>77</td>\n",
       "      <td>Y</td>\n",
       "      <td>Google Phone</td>\n",
       "      <td>610.0</td>\n",
       "      <td>2019-06-01</td>\n",
       "      <td>2019-09-30</td>\n",
       "      <td>N</td>\n",
       "    </tr>\n",
       "  </tbody>\n",
       "</table>\n",
       "</div>"
      ],
      "text/plain": [
       "    order_id  product_id  cust_id  product_quantity order_date cust_state  \\\n",
       "0     146740         614   121960                 1 2019-01-24         CA   \n",
       "6     149993         614   228883                 1 2019-01-24         GA   \n",
       "12    146586         614   217692                 1 2019-01-24         NY   \n",
       "18    147699         614   196010                 1 2019-01-24         CA   \n",
       "24    143187         614   212530                 1 2019-01-24         CA   \n",
       "\n",
       "    cust_age current_ind_x  product_name  product_price effective_start_date  \\\n",
       "0         36             Y  Google Phone          610.0           2019-06-01   \n",
       "6         77             Y  Google Phone          610.0           2019-06-01   \n",
       "12        54             Y  Google Phone          610.0           2019-06-01   \n",
       "18        57             Y  Google Phone          610.0           2019-06-01   \n",
       "24        77             Y  Google Phone          610.0           2019-06-01   \n",
       "\n",
       "   effective_end_date current_ind_y  \n",
       "0          2019-09-30             N  \n",
       "6          2019-09-30             N  \n",
       "12         2019-09-30             N  \n",
       "18         2019-09-30             N  \n",
       "24         2019-09-30             N  "
      ]
     },
     "execution_count": 85,
     "metadata": {},
     "output_type": "execute_result"
    }
   ],
   "source": [
    "df.head()"
   ]
  },
  {
   "cell_type": "code",
   "execution_count": 86,
   "metadata": {},
   "outputs": [
    {
     "data": {
      "text/plain": [
       "product_quantity\n",
       "1    161509\n",
       "2     12952\n",
       "3      2855\n",
       "4       784\n",
       "5       227\n",
       "6        78\n",
       "7        24\n",
       "8         5\n",
       "9         3\n",
       "Name: count, dtype: int64"
      ]
     },
     "execution_count": 86,
     "metadata": {},
     "output_type": "execute_result"
    }
   ],
   "source": [
    "df.product_quantity.value_counts()"
   ]
  },
  {
   "cell_type": "code",
   "execution_count": 87,
   "metadata": {},
   "outputs": [],
   "source": [
    "#Adding a total_cost column to the data frame.\n",
    "df['total_sale'] = df['product_quantity'] * df['product_price']"
   ]
  },
  {
   "cell_type": "code",
   "execution_count": 88,
   "metadata": {},
   "outputs": [
    {
     "name": "stdout",
     "output_type": "stream",
     "text": [
      "The total of all sales is $33777828.83\n"
     ]
    }
   ],
   "source": [
    "#Getting the sum of the total_cost columns\n",
    "total_sales = df['total_sale'].sum().round(2)\n",
    "print(f\"The total of all sales is ${total_sales}\")"
   ]
  },
  {
   "cell_type": "code",
   "execution_count": 90,
   "metadata": {},
   "outputs": [
    {
     "data": {
      "text/plain": [
       "cust_state\n",
       "CA    13434771.48\n",
       "NY     4569100.29\n",
       "TX     4513486.00\n",
       "MA     3574281.34\n",
       "GA     2727102.62\n",
       "WA     2681053.94\n",
       "OR     1832339.33\n",
       "ME      445693.83\n",
       "Name: total_sale, dtype: float64"
      ]
     },
     "execution_count": 90,
     "metadata": {},
     "output_type": "execute_result"
    }
   ],
   "source": [
    "#Getting the total sales for each state.\n",
    "sales_by_states = df.groupby('cust_state')['total_sale'].sum().sort_values(ascending=False)\n",
    "sales_by_states"
   ]
  },
  {
   "cell_type": "code",
   "execution_count": 91,
   "metadata": {},
   "outputs": [
    {
     "data": {
      "image/png": "[encoded data removed]",
      "text/plain": [
       "<Figure size 640x480 with 1 Axes>"
      ]
     },
     "metadata": {},
     "output_type": "display_data"
    }
   ],
   "source": [
    "sns.set_theme(style=\"whitegrid\")\n",
    "sns.barplot(x=sales_by_states.index, y=sales_by_states.values, palette=\"Blues_d\")\n",
    "plt.title('Sales by State', fontsize=16)\n",
    "plt.xlabel('State', fontsize=12)\n",
    "plt.ylabel('Sales', fontsize=12)\n",
    "plt.xticks(rotation=45, ha='right')\n",
    "plt.tight_layout()\n",
    "plt.show()"
   ]
  },
  {
   "cell_type": "code",
   "execution_count": 92,
   "metadata": {},
   "outputs": [
    {
     "data": {
      "text/plain": [
       "cust_state\n",
       "CA    39.77\n",
       "NY    13.53\n",
       "TX    13.36\n",
       "MA    10.58\n",
       "GA     8.07\n",
       "WA     7.94\n",
       "OR     5.42\n",
       "ME     1.32\n",
       "Name: total_sale, dtype: float64"
      ]
     },
     "execution_count": 92,
     "metadata": {},
     "output_type": "execute_result"
    }
   ],
   "source": [
    "#Showing the percentage of sales held by each state.\n",
    "sales_by_states_percent = (sales_by_states / total_sales) * 100\n",
    "sales_by_states_percent = sales_by_states_percent.round(2)\n",
    "sales_by_states_percent = sales_by_states_percent.sort_values(ascending=False)\n",
    "sales_by_states_percent"
   ]
  },
  {
   "cell_type": "code",
   "execution_count": 93,
   "metadata": {},
   "outputs": [
    {
     "data": {
      "image/png": "[encoded data removed]",
      "text/plain": [
       "<Figure size 800x800 with 1 Axes>"
      ]
     },
     "metadata": {},
     "output_type": "display_data"
    }
   ],
   "source": [
    "#Using a pie chart to show sales_by_state_percent.\n",
    "explode = [0.1 if i == sales_by_states_percent.idxmax() else 0 for i in sales_by_states_percent.index]\n",
    "colors = sns.color_palette('pastel')\n",
    "sales_by_states_percent.plot(kind='pie', autopct='%1.1f%%', figsize=(8, 8), explode=explode, colors=colors, shadow=True, startangle=90)\n",
    "plt.title('Sales by State', fontsize=16)\n",
    "plt.ylabel('')\n",
    "plt.axis('equal')\n",
    "plt.show()"
   ]
  },
  {
   "cell_type": "code",
   "execution_count": 94,
   "metadata": {},
   "outputs": [
    {
     "data": {
      "text/plain": [
       "cust_age\n",
       "43    734433.73\n",
       "37    724877.87\n",
       "45    720814.30\n",
       "39    715726.69\n",
       "36    714944.06\n",
       "        ...    \n",
       "65    294925.66\n",
       "69    292039.97\n",
       "55    290948.00\n",
       "80    290672.12\n",
       "48    284132.01\n",
       "Name: total_sale, Length: 72, dtype: float64"
      ]
     },
     "execution_count": 94,
     "metadata": {},
     "output_type": "execute_result"
    }
   ],
   "source": [
    "#Grouping sales by age.\n",
    "sales_by_age = df.groupby('cust_age')['total_sale'].sum().sort_values(ascending=False)\n",
    "sales_by_age"
   ]
  },
  {
   "cell_type": "code",
   "execution_count": 95,
   "metadata": {},
   "outputs": [
    {
     "name": "stdout",
     "output_type": "stream",
     "text": [
      "The age with the highest sales was 43 at $749,686.92\n",
      "The age with the lowest sales was 48 at $292,774.59\n"
     ]
    }
   ],
   "source": [
    "print(f\"The age with the highest sales was 43 at $749,686.92\")\n",
    "print(f\"The age with the lowest sales was 48 at $292,774.59\")"
   ]
  },
  {
   "cell_type": "code",
   "execution_count": 96,
   "metadata": {},
   "outputs": [
    {
     "data": {
      "text/html": [
       "<div>\n",
       "<style scoped>\n",
       "    .dataframe tbody tr th:only-of-type {\n",
       "        vertical-align: middle;\n",
       "    }\n",
       "\n",
       "    .dataframe tbody tr th {\n",
       "        vertical-align: top;\n",
       "    }\n",
       "\n",
       "    .dataframe thead th {\n",
       "        text-align: right;\n",
       "    }\n",
       "</style>\n",
       "<table border=\"1\" class=\"dataframe\">\n",
       "  <thead>\n",
       "    <tr style=\"text-align: right;\">\n",
       "      <th></th>\n",
       "      <th>cust_age</th>\n",
       "      <th>total_sale</th>\n",
       "    </tr>\n",
       "  </thead>\n",
       "  <tbody>\n",
       "    <tr>\n",
       "      <th>0</th>\n",
       "      <td>36</td>\n",
       "      <td>610.0</td>\n",
       "    </tr>\n",
       "    <tr>\n",
       "      <th>6</th>\n",
       "      <td>77</td>\n",
       "      <td>610.0</td>\n",
       "    </tr>\n",
       "    <tr>\n",
       "      <th>12</th>\n",
       "      <td>54</td>\n",
       "      <td>610.0</td>\n",
       "    </tr>\n",
       "    <tr>\n",
       "      <th>18</th>\n",
       "      <td>57</td>\n",
       "      <td>610.0</td>\n",
       "    </tr>\n",
       "    <tr>\n",
       "      <th>24</th>\n",
       "      <td>77</td>\n",
       "      <td>610.0</td>\n",
       "    </tr>\n",
       "  </tbody>\n",
       "</table>\n",
       "</div>"
      ],
      "text/plain": [
       "    cust_age  total_sale\n",
       "0         36       610.0\n",
       "6         77       610.0\n",
       "12        54       610.0\n",
       "18        57       610.0\n",
       "24        77       610.0"
      ]
     },
     "execution_count": 96,
     "metadata": {},
     "output_type": "execute_result"
    }
   ],
   "source": [
    "#Creating dataframe of age and total sales\n",
    "age_sales = df[['cust_age', 'total_sale']]\n",
    "age_sales.head()"
   ]
  },
  {
   "cell_type": "code",
   "execution_count": 97,
   "metadata": {},
   "outputs": [
    {
     "name": "stdout",
     "output_type": "stream",
     "text": [
      "The yougest customer to make a purchase was 15 years old.\n",
      "The oldest customer to make a purchase was 86 years old.\n"
     ]
    }
   ],
   "source": [
    "print(f\"The yougest customer to make a purchase was {age_sales.cust_age.min()} years old.\")\n",
    "print(f\"The oldest customer to make a purchase was {age_sales.cust_age.max()} years old.\")"
   ]
  },
  {
   "cell_type": "code",
   "execution_count": 98,
   "metadata": {},
   "outputs": [],
   "source": [
    "#Dividing into age groups\n",
    "customer_15_25 = age_sales[age_sales['cust_age'].between(15, 25)]\n",
    "customer_26_35 = age_sales[age_sales['cust_age'].between(26, 35)]\n",
    "customer_36_45 = age_sales[age_sales['cust_age'].between(36, 45)]\n",
    "customer_46_55 = age_sales[age_sales['cust_age'].between(46, 55)]\n",
    "customer_56_65 = age_sales[age_sales['cust_age'].between(56, 65)]\n",
    "customer_66_75 = age_sales[age_sales['cust_age'].between(66, 75)]\n",
    "customer_76_86 = age_sales[age_sales['cust_age'].between(76, 86)]"
   ]
  },
  {
   "cell_type": "code",
   "execution_count": 99,
   "metadata": {},
   "outputs": [],
   "source": [
    "#Making a list of each age groups sum.\n",
    "age_sales_list = [customer_15_25['total_sale'].sum(), customer_26_35['total_sale'].sum(),\n",
    "                  customer_36_45['total_sale'].sum(), customer_46_55['total_sale'].sum(),\n",
    "                  customer_56_65['total_sale'].sum(), customer_66_75['total_sale'].sum(), customer_76_86['total_sale'].sum()]"
   ]
  },
  {
   "cell_type": "code",
   "execution_count": 101,
   "metadata": {},
   "outputs": [],
   "source": [
    "#Turning the age_sales_list into a DataFrame\n",
    "age_groups_df = pd.DataFrame({\n",
    "    'Age Group': ['15-25', '26-35', '36-45', '46-55', '56-65', '66-75', '76-86'],\n",
    "    'Total Sales': age_sales_list\n",
    "})"
   ]
  },
  {
   "cell_type": "code",
   "execution_count": 102,
   "metadata": {},
   "outputs": [
    {
     "data": {
      "image/png": "[encoded data removed]",
      "text/plain": [
       "<Figure size 640x480 with 1 Axes>"
      ]
     },
     "metadata": {},
     "output_type": "display_data"
    }
   ],
   "source": [
    "sns.set_theme(style=\"whitegrid\")\n",
    "sns.barplot(x='Age Group', y='Total Sales', data=age_groups_df, palette=\"Blues_d\")\n",
    "plt.title('Sales by Age Group', fontsize=16)\n",
    "plt.xlabel('Age Group', fontsize=12)\n",
    "plt.ylabel('Total Sales in millions', fontsize=12)\n",
    "plt.xticks(rotation=45, ha='right')\n",
    "plt.tight_layout()\n",
    "plt.show()"
   ]
  },
  {
   "cell_type": "code",
   "execution_count": 103,
   "metadata": {},
   "outputs": [
    {
     "data": {
      "text/plain": [
       "product_name\n",
       "Lightning Charging Cable      21269\n",
       "USB-C Charging Cable          20780\n",
       "AAA Batteries (4-pack)        20240\n",
       "AA Batteries (4-pack)         20037\n",
       "Wired Headphones              17798\n",
       "Apple Airpods Headphones      15491\n",
       "Bose SoundSport Headphones    12941\n",
       "27in FHD Monitor               7315\n",
       "27in 4K Gaming Monitor         6073\n",
       "34in Ultrawide Monitor         5942\n",
       "Name: count, dtype: int64"
      ]
     },
     "execution_count": 103,
     "metadata": {},
     "output_type": "execute_result"
    }
   ],
   "source": [
    "#Showing the top 10 products.\n",
    "common_products = df['product_name'].value_counts().head(10)\n",
    "common_products"
   ]
  },
  {
   "cell_type": "code",
   "execution_count": null,
   "metadata": {},
   "outputs": [],
   "source": []
  },
  {
   "cell_type": "code",
   "execution_count": null,
   "metadata": {},
   "outputs": [],
   "source": []
  }
 ],
 "metadata": {
  "kernelspec": {
   "display_name": "base",
   "language": "python",
   "name": "python3"
  },
  "language_info": {
   "codemirror_mode": {
    "name": "ipython",
    "version": 3
   },
   "file_extension": ".py",
   "mimetype": "text/x-python",
   "name": "python",
   "nbconvert_exporter": "python",
   "pygments_lexer": "ipython3",
   "version": "3.11.5"
  }
 },
 "nbformat": 4,
 "nbformat_minor": 2
}
