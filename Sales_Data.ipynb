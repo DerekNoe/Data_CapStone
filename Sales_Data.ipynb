{
 "cells": [
  {
   "cell_type": "markdown",
   "metadata": {},
   "source": [
    "About the Dataset\n",
    "The purpose of this fictional sales dataset is to facilitate data analysis practice. Before analysis, the three tables must be joined to provide a cohesive dataset.\n",
    "\n",
    "This dataset includes three tables:\n",
    "\n",
    "Customer Dimension (History Preserving)\n",
    "\n",
    "Contains unique customer IDs, addresses, ages, and indicators of current records.\n",
    "Includes effective start and end dates for each customer.\n",
    "Product Dimension (History Preserving)\n",
    "\n",
    "Contains unique product IDs, names, prices, and their validity periods.\n",
    "Includes indicators of current price records.\n",
    "Sales Transactions\n",
    "\n",
    "Captures sales activities with unique order IDs, product IDs, customer IDs, quantities sold, and order dates.\n",
    "Together, these datasets offer a comprehensive view of customer demographics, product pricing history, and sales transactions, providing a robust foundation for data analysis."
   ]
  },
  {
   "cell_type": "code",
   "execution_count": 3,
   "metadata": {},
   "outputs": [],
   "source": [
    "import pandas as pd\n",
    "import numpy as np\n",
    "import matplotlib.pyplot as plt\n",
    "import seaborn as sns"
   ]
  }
 ],
 "metadata": {
  "kernelspec": {
   "display_name": "base",
   "language": "python",
   "name": "python3"
  },
  "language_info": {
   "codemirror_mode": {
    "name": "ipython",
    "version": 3
   },
   "file_extension": ".py",
   "mimetype": "text/x-python",
   "name": "python",
   "nbconvert_exporter": "python",
   "pygments_lexer": "ipython3",
   "version": "3.11.5"
  }
 },
 "nbformat": 4,
 "nbformat_minor": 2
}
